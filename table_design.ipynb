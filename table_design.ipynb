{
 "cells": [
  {
   "cell_type": "markdown",
   "metadata": {},
   "source": [
    "# **Table Design**\n",
    "## RAW TABLE\n"
   ]
  },
  {
   "cell_type": "code",
   "execution_count": 20,
   "metadata": {},
   "outputs": [
    {
     "data": {
      "text/html": [
       "<style type=\"text/css\">\n",
       "</style>\n",
       "<table id=\"T_7fb67_\">\n",
       "  <caption>RAW TABLE</caption>\n",
       "  <thead>\n",
       "    <tr>\n",
       "      <th class=\"col_heading level0 col0\" >COLUMN_NAME</th>\n",
       "      <th class=\"col_heading level0 col1\" >DATA_TYPE</th>\n",
       "      <th class=\"col_heading level0 col2\" >PK</th>\n",
       "      <th class=\"col_heading level0 col3\" >NULLABLE</th>\n",
       "      <th class=\"col_heading level0 col4\" >DATA_DEFAULT</th>\n",
       "      <th class=\"col_heading level0 col5\" >COLUMN_ID</th>\n",
       "      <th class=\"col_heading level0 col6\" >COMMENTS</th>\n",
       "    </tr>\n",
       "  </thead>\n",
       "  <tbody>\n",
       "    <tr>\n",
       "      <td id=\"T_7fb67_row0_col0\" class=\"data row0 col0\" >DATETIME</td>\n",
       "      <td id=\"T_7fb67_row0_col1\" class=\"data row0 col1\" >VARCHAR2(30 BYTE)</td>\n",
       "      <td id=\"T_7fb67_row0_col2\" class=\"data row0 col2\" >N</td>\n",
       "      <td id=\"T_7fb67_row0_col3\" class=\"data row0 col3\" >Yes</td>\n",
       "      <td id=\"T_7fb67_row0_col4\" class=\"data row0 col4\" >null</td>\n",
       "      <td id=\"T_7fb67_row0_col5\" class=\"data row0 col5\" >1</td>\n",
       "      <td id=\"T_7fb67_row0_col6\" class=\"data row0 col6\" >Data from raw file</td>\n",
       "    </tr>\n",
       "    <tr>\n",
       "      <td id=\"T_7fb67_row1_col0\" class=\"data row1 col0\" >VIDEOTITLE</td>\n",
       "      <td id=\"T_7fb67_row1_col1\" class=\"data row1 col1\" >VARCHAR2(200 BYTE)</td>\n",
       "      <td id=\"T_7fb67_row1_col2\" class=\"data row1 col2\" >N</td>\n",
       "      <td id=\"T_7fb67_row1_col3\" class=\"data row1 col3\" >Yes</td>\n",
       "      <td id=\"T_7fb67_row1_col4\" class=\"data row1 col4\" >null</td>\n",
       "      <td id=\"T_7fb67_row1_col5\" class=\"data row1 col5\" >2</td>\n",
       "      <td id=\"T_7fb67_row1_col6\" class=\"data row1 col6\" >Data from raw file</td>\n",
       "    </tr>\n",
       "    <tr>\n",
       "      <td id=\"T_7fb67_row2_col0\" class=\"data row2 col0\" >EVENTS</td>\n",
       "      <td id=\"T_7fb67_row2_col1\" class=\"data row2 col1\" >VARCHAR2(150 BYTE)</td>\n",
       "      <td id=\"T_7fb67_row2_col2\" class=\"data row2 col2\" >N</td>\n",
       "      <td id=\"T_7fb67_row2_col3\" class=\"data row2 col3\" >Yes</td>\n",
       "      <td id=\"T_7fb67_row2_col4\" class=\"data row2 col4\" >null</td>\n",
       "      <td id=\"T_7fb67_row2_col5\" class=\"data row2 col5\" >3</td>\n",
       "      <td id=\"T_7fb67_row2_col6\" class=\"data row2 col6\" >Data from raw file</td>\n",
       "    </tr>\n",
       "  </tbody>\n",
       "</table>\n"
      ],
      "text/plain": [
       "<pandas.io.formats.style.Styler at 0x126ec8400>"
      ]
     },
     "execution_count": 20,
     "metadata": {},
     "output_type": "execute_result"
    }
   ],
   "source": [
    "import pandas as pd\n",
    "raw_table = pd.DataFrame([['DATETIME', 'VARCHAR2(30 BYTE)', 'N', 'Yes', 'null', 1, 'Data from raw file'],\n",
    "                          ['VIDEOTITLE', 'VARCHAR2(200 BYTE)', 'N', 'Yes', 'null', 2, 'Data from raw file'],\n",
    "                          ['EVENTS', 'VARCHAR2(150 BYTE)', 'N', 'Yes', 'null', 3, 'Data from raw file']],\n",
    "                  columns=['COLUMN_NAME', 'DATA_TYPE', 'PK', 'NULLABLE', 'DATA_DEFAULT', 'COLUMN_ID', 'COMMENTS'])\n",
    "\n",
    "raw_table.style.hide_index().set_caption('RAW TABLE')"
   ]
  },
  {
   "cell_type": "markdown",
   "metadata": {},
   "source": [
    "## Dimension Table DIMDATE "
   ]
  },
  {
   "cell_type": "code",
   "execution_count": 12,
   "metadata": {},
   "outputs": [
    {
     "data": {
      "text/html": [
       "<style type=\"text/css\">\n",
       "</style>\n",
       "<table id=\"T_79868_\">\n",
       "  <caption>DIMDATE</caption>\n",
       "  <thead>\n",
       "    <tr>\n",
       "      <th class=\"col_heading level0 col0\" >COLUMN_NAME</th>\n",
       "      <th class=\"col_heading level0 col1\" >DATA_TYPE</th>\n",
       "      <th class=\"col_heading level0 col2\" >PK</th>\n",
       "      <th class=\"col_heading level0 col3\" >NULLABLE</th>\n",
       "      <th class=\"col_heading level0 col4\" >DATA_DEFAULT</th>\n",
       "      <th class=\"col_heading level0 col5\" >COLUMN_ID</th>\n",
       "      <th class=\"col_heading level0 col6\" >COMMENTS</th>\n",
       "    </tr>\n",
       "  </thead>\n",
       "  <tbody>\n",
       "    <tr>\n",
       "      <td id=\"T_79868_row0_col0\" class=\"data row0 col0\" >DATETIME_SKEY</td>\n",
       "      <td id=\"T_79868_row0_col1\" class=\"data row0 col1\" >TIMESTAMP</td>\n",
       "      <td id=\"T_79868_row0_col2\" class=\"data row0 col2\" >Y</td>\n",
       "      <td id=\"T_79868_row0_col3\" class=\"data row0 col3\" >No</td>\n",
       "      <td id=\"T_79868_row0_col4\" class=\"data row0 col4\" >NOT NULL</td>\n",
       "      <td id=\"T_79868_row0_col5\" class=\"data row0 col5\" >1</td>\n",
       "      <td id=\"T_79868_row0_col6\" class=\"data row0 col6\" >Data derived from DIMDATE.DATETIME_SKEY</td>\n",
       "    </tr>\n",
       "  </tbody>\n",
       "</table>\n"
      ],
      "text/plain": [
       "<pandas.io.formats.style.Styler at 0x126eb2fd0>"
      ]
     },
     "execution_count": 12,
     "metadata": {},
     "output_type": "execute_result"
    }
   ],
   "source": [
    "import pandas as pd\n",
    "\n",
    "dimdate = pd.DataFrame([['DATETIME_SKEY', 'TIMESTAMP', 'Y', 'No', 'NOT NULL', 1, 'Data derived from DIMDATE.DATETIME_SKEY']],\n",
    "                  columns=['COLUMN_NAME', 'DATA_TYPE', 'PK', 'NULLABLE', 'DATA_DEFAULT', 'COLUMN_ID', 'COMMENTS'])\n",
    "\n",
    "dimdate.style.hide_index().set_caption('DIMDATE')"
   ]
  },
  {
   "cell_type": "markdown",
   "metadata": {},
   "source": [
    "## Dimension Table DIMPLATFORM"
   ]
  },
  {
   "cell_type": "code",
   "execution_count": 13,
   "metadata": {},
   "outputs": [
    {
     "data": {
      "text/html": [
       "<style type=\"text/css\">\n",
       "</style>\n",
       "<table id=\"T_d3bda_\">\n",
       "  <caption>DIMPLATFORM</caption>\n",
       "  <thead>\n",
       "    <tr>\n",
       "      <th class=\"col_heading level0 col0\" >COLUMN_NAME</th>\n",
       "      <th class=\"col_heading level0 col1\" >DATA_TYPE</th>\n",
       "      <th class=\"col_heading level0 col2\" >PK</th>\n",
       "      <th class=\"col_heading level0 col3\" >NULLABLE</th>\n",
       "      <th class=\"col_heading level0 col4\" >DATA_DEFAULT</th>\n",
       "      <th class=\"col_heading level0 col5\" >COLUMN_ID</th>\n",
       "      <th class=\"col_heading level0 col6\" >COMMENTS</th>\n",
       "    </tr>\n",
       "  </thead>\n",
       "  <tbody>\n",
       "    <tr>\n",
       "      <td id=\"T_d3bda_row0_col0\" class=\"data row0 col0\" >PLATFORM_SKEY</td>\n",
       "      <td id=\"T_d3bda_row0_col1\" class=\"data row0 col1\" >INTEGER</td>\n",
       "      <td id=\"T_d3bda_row0_col2\" class=\"data row0 col2\" >Y</td>\n",
       "      <td id=\"T_d3bda_row0_col3\" class=\"data row0 col3\" >No</td>\n",
       "      <td id=\"T_d3bda_row0_col4\" class=\"data row0 col4\" >NOT NULL</td>\n",
       "      <td id=\"T_d3bda_row0_col5\" class=\"data row0 col5\" >1</td>\n",
       "      <td id=\"T_d3bda_row0_col6\" class=\"data row0 col6\" >Data derived DIMPLATFORM.PLATFORM_SKEY</td>\n",
       "    </tr>\n",
       "    <tr>\n",
       "      <td id=\"T_d3bda_row1_col0\" class=\"data row1 col0\" >PLATFORM_TYPE</td>\n",
       "      <td id=\"T_d3bda_row1_col1\" class=\"data row1 col1\" >VARCHAR2(200 BYTE)</td>\n",
       "      <td id=\"T_d3bda_row1_col2\" class=\"data row1 col2\" >N</td>\n",
       "      <td id=\"T_d3bda_row1_col3\" class=\"data row1 col3\" >No</td>\n",
       "      <td id=\"T_d3bda_row1_col4\" class=\"data row1 col4\" >NOT NULL</td>\n",
       "      <td id=\"T_d3bda_row1_col5\" class=\"data row1 col5\" >2</td>\n",
       "      <td id=\"T_d3bda_row1_col6\" class=\"data row1 col6\" >Data derived DIMPLATFORM.PLATFORM</td>\n",
       "    </tr>\n",
       "  </tbody>\n",
       "</table>\n"
      ],
      "text/plain": [
       "<pandas.io.formats.style.Styler at 0x126eb21c0>"
      ]
     },
     "execution_count": 13,
     "metadata": {},
     "output_type": "execute_result"
    }
   ],
   "source": [
    "import pandas as pd\n",
    "\n",
    "dimplatform = pd.DataFrame([['PLATFORM_SKEY', 'INTEGER', 'Y', 'No', 'NOT NULL', 1, 'Data derived DIMPLATFORM.PLATFORM_SKEY'],\n",
    "                          ['PLATFORM_TYPE', 'VARCHAR2(200 BYTE)', 'N', 'No', 'NOT NULL', 2, 'Data derived DIMPLATFORM.PLATFORM']],\n",
    "                  columns=['COLUMN_NAME', 'DATA_TYPE', 'PK', 'NULLABLE', 'DATA_DEFAULT', 'COLUMN_ID', 'COMMENTS'])\n",
    "                  \n",
    "dimplatform.style.hide_index().set_caption('DIMPLATFORM')"
   ]
  },
  {
   "cell_type": "markdown",
   "metadata": {},
   "source": [
    "## Dimension Table DIMSITE\n"
   ]
  },
  {
   "cell_type": "code",
   "execution_count": 14,
   "metadata": {},
   "outputs": [
    {
     "data": {
      "text/html": [
       "<style type=\"text/css\">\n",
       "</style>\n",
       "<table id=\"T_4eb27_\">\n",
       "  <caption>DIMSITE</caption>\n",
       "  <thead>\n",
       "    <tr>\n",
       "      <th class=\"col_heading level0 col0\" >COLUMN_NAME</th>\n",
       "      <th class=\"col_heading level0 col1\" >DATA_TYPE</th>\n",
       "      <th class=\"col_heading level0 col2\" >PK</th>\n",
       "      <th class=\"col_heading level0 col3\" >NULLABLE</th>\n",
       "      <th class=\"col_heading level0 col4\" >DATA_DEFAULT</th>\n",
       "      <th class=\"col_heading level0 col5\" >COLUMN_ID</th>\n",
       "      <th class=\"col_heading level0 col6\" >COMMENTS</th>\n",
       "    </tr>\n",
       "  </thead>\n",
       "  <tbody>\n",
       "    <tr>\n",
       "      <td id=\"T_4eb27_row0_col0\" class=\"data row0 col0\" >SITE_SKEY</td>\n",
       "      <td id=\"T_4eb27_row0_col1\" class=\"data row0 col1\" >INTEGER</td>\n",
       "      <td id=\"T_4eb27_row0_col2\" class=\"data row0 col2\" >Y</td>\n",
       "      <td id=\"T_4eb27_row0_col3\" class=\"data row0 col3\" >No</td>\n",
       "      <td id=\"T_4eb27_row0_col4\" class=\"data row0 col4\" >NOT NULL</td>\n",
       "      <td id=\"T_4eb27_row0_col5\" class=\"data row0 col5\" >1</td>\n",
       "      <td id=\"T_4eb27_row0_col6\" class=\"data row0 col6\" >Data derived DIMSITE.SITE_SKEY</td>\n",
       "    </tr>\n",
       "    <tr>\n",
       "      <td id=\"T_4eb27_row1_col0\" class=\"data row1 col0\" >SITE</td>\n",
       "      <td id=\"T_4eb27_row1_col1\" class=\"data row1 col1\" >VARCHAR(200)</td>\n",
       "      <td id=\"T_4eb27_row1_col2\" class=\"data row1 col2\" >N</td>\n",
       "      <td id=\"T_4eb27_row1_col3\" class=\"data row1 col3\" >No</td>\n",
       "      <td id=\"T_4eb27_row1_col4\" class=\"data row1 col4\" >NOT NULL</td>\n",
       "      <td id=\"T_4eb27_row1_col5\" class=\"data row1 col5\" >2</td>\n",
       "      <td id=\"T_4eb27_row1_col6\" class=\"data row1 col6\" >Data derived DIMSITE.SITE</td>\n",
       "    </tr>\n",
       "  </tbody>\n",
       "</table>\n"
      ],
      "text/plain": [
       "<pandas.io.formats.style.Styler at 0x126eb98b0>"
      ]
     },
     "execution_count": 14,
     "metadata": {},
     "output_type": "execute_result"
    }
   ],
   "source": [
    "import pandas as pd\n",
    "\n",
    "dimsite = pd.DataFrame([['SITE_SKEY', 'INTEGER', 'Y', 'No', 'NOT NULL', 1, 'Data derived DIMSITE.SITE_SKEY'],\n",
    "                          ['SITE', 'VARCHAR(200)', 'N', 'No', 'NOT NULL', 2, 'Data derived DIMSITE.SITE']],\n",
    "                  columns=['COLUMN_NAME', 'DATA_TYPE', 'PK', 'NULLABLE', 'DATA_DEFAULT', 'COLUMN_ID', 'COMMENTS'])\n",
    "                  \n",
    "dimsite.style.hide_index().set_caption('DIMSITE')"
   ]
  },
  {
   "cell_type": "markdown",
   "metadata": {},
   "source": [
    "## Dimension Table DIMVIDEO\n"
   ]
  },
  {
   "cell_type": "code",
   "execution_count": 15,
   "metadata": {},
   "outputs": [
    {
     "data": {
      "text/html": [
       "<style type=\"text/css\">\n",
       "</style>\n",
       "<table id=\"T_10818_\">\n",
       "  <caption>DIMVIDEO</caption>\n",
       "  <thead>\n",
       "    <tr>\n",
       "      <th class=\"col_heading level0 col0\" >COLUMN_NAME</th>\n",
       "      <th class=\"col_heading level0 col1\" >DATA_TYPE</th>\n",
       "      <th class=\"col_heading level0 col2\" >PK</th>\n",
       "      <th class=\"col_heading level0 col3\" >NULLABLE</th>\n",
       "      <th class=\"col_heading level0 col4\" >DATA_DEFAULT</th>\n",
       "      <th class=\"col_heading level0 col5\" >COLUMN_ID</th>\n",
       "      <th class=\"col_heading level0 col6\" >COMMENTS</th>\n",
       "    </tr>\n",
       "  </thead>\n",
       "  <tbody>\n",
       "    <tr>\n",
       "      <td id=\"T_10818_row0_col0\" class=\"data row0 col0\" >VIDEO_SKEY</td>\n",
       "      <td id=\"T_10818_row0_col1\" class=\"data row0 col1\" >INTEGER</td>\n",
       "      <td id=\"T_10818_row0_col2\" class=\"data row0 col2\" >Y</td>\n",
       "      <td id=\"T_10818_row0_col3\" class=\"data row0 col3\" >No</td>\n",
       "      <td id=\"T_10818_row0_col4\" class=\"data row0 col4\" >NOT NULL</td>\n",
       "      <td id=\"T_10818_row0_col5\" class=\"data row0 col5\" >1</td>\n",
       "      <td id=\"T_10818_row0_col6\" class=\"data row0 col6\" >Data derived from DIMVIDEO.VIDEO_SKEY</td>\n",
       "    </tr>\n",
       "    <tr>\n",
       "      <td id=\"T_10818_row1_col0\" class=\"data row1 col0\" >VIDEO_TITLE</td>\n",
       "      <td id=\"T_10818_row1_col1\" class=\"data row1 col1\" >TEXT</td>\n",
       "      <td id=\"T_10818_row1_col2\" class=\"data row1 col2\" >N</td>\n",
       "      <td id=\"T_10818_row1_col3\" class=\"data row1 col3\" >No</td>\n",
       "      <td id=\"T_10818_row1_col4\" class=\"data row1 col4\" >NOT NULL</td>\n",
       "      <td id=\"T_10818_row1_col5\" class=\"data row1 col5\" >2</td>\n",
       "      <td id=\"T_10818_row1_col6\" class=\"data row1 col6\" >Data derived from DIMVIDEO.VIDEO_TITLE</td>\n",
       "    </tr>\n",
       "  </tbody>\n",
       "</table>\n"
      ],
      "text/plain": [
       "<pandas.io.formats.style.Styler at 0x126eb2be0>"
      ]
     },
     "execution_count": 15,
     "metadata": {},
     "output_type": "execute_result"
    }
   ],
   "source": [
    "import pandas as pd\n",
    "\n",
    "dimvideo = pd.DataFrame([['VIDEO_SKEY', 'INTEGER', 'Y', 'No', 'NOT NULL', 1, 'Data derived from DIMVIDEO.VIDEO_SKEY'],\n",
    "                          ['VIDEO_TITLE', 'TEXT', 'N', 'No', 'NOT NULL', 2, 'Data derived from DIMVIDEO.VIDEO_TITLE']],\n",
    "                  columns=['COLUMN_NAME', 'DATA_TYPE', 'PK', 'NULLABLE', 'DATA_DEFAULT', 'COLUMN_ID', 'COMMENTS'])\n",
    "                  \n",
    "dimvideo.style.hide_index().set_caption('DIMVIDEO')"
   ]
  },
  {
   "cell_type": "markdown",
   "metadata": {},
   "source": [
    "## Fact Table FACTTABLE\n"
   ]
  },
  {
   "cell_type": "code",
   "execution_count": 16,
   "metadata": {},
   "outputs": [
    {
     "data": {
      "text/html": [
       "<style type=\"text/css\">\n",
       "</style>\n",
       "<table id=\"T_79124_\">\n",
       "  <caption>FACTTABLE</caption>\n",
       "  <thead>\n",
       "    <tr>\n",
       "      <th class=\"col_heading level0 col0\" >COLUMN_NAME</th>\n",
       "      <th class=\"col_heading level0 col1\" >DATA_TYPE</th>\n",
       "      <th class=\"col_heading level0 col2\" >PK</th>\n",
       "      <th class=\"col_heading level0 col3\" >NULLABLE</th>\n",
       "      <th class=\"col_heading level0 col4\" >DATA_DEFAULT</th>\n",
       "      <th class=\"col_heading level0 col5\" >COLUMN_ID</th>\n",
       "      <th class=\"col_heading level0 col6\" >COMMENTS</th>\n",
       "    </tr>\n",
       "  </thead>\n",
       "  <tbody>\n",
       "    <tr>\n",
       "      <td id=\"T_79124_row0_col0\" class=\"data row0 col0\" >DATETIME_SKEY</td>\n",
       "      <td id=\"T_79124_row0_col1\" class=\"data row0 col1\" >TIMESTAMP</td>\n",
       "      <td id=\"T_79124_row0_col2\" class=\"data row0 col2\" >N</td>\n",
       "      <td id=\"T_79124_row0_col3\" class=\"data row0 col3\" >No</td>\n",
       "      <td id=\"T_79124_row0_col4\" class=\"data row0 col4\" >NOT NULL</td>\n",
       "      <td id=\"T_79124_row0_col5\" class=\"data row0 col5\" >1</td>\n",
       "      <td id=\"T_79124_row0_col6\" class=\"data row0 col6\" >Data derived from FACTTABLE.DATETIME_SKEY</td>\n",
       "    </tr>\n",
       "    <tr>\n",
       "      <td id=\"T_79124_row1_col0\" class=\"data row1 col0\" >Platform_SKEY</td>\n",
       "      <td id=\"T_79124_row1_col1\" class=\"data row1 col1\" >INTEGER</td>\n",
       "      <td id=\"T_79124_row1_col2\" class=\"data row1 col2\" >N</td>\n",
       "      <td id=\"T_79124_row1_col3\" class=\"data row1 col3\" >No</td>\n",
       "      <td id=\"T_79124_row1_col4\" class=\"data row1 col4\" >NOT NULL</td>\n",
       "      <td id=\"T_79124_row1_col5\" class=\"data row1 col5\" >2</td>\n",
       "      <td id=\"T_79124_row1_col6\" class=\"data row1 col6\" >Data derived from FACTTABLE.PLATFORM_SKEY</td>\n",
       "    </tr>\n",
       "    <tr>\n",
       "      <td id=\"T_79124_row2_col0\" class=\"data row2 col0\" >Site_SKEY</td>\n",
       "      <td id=\"T_79124_row2_col1\" class=\"data row2 col1\" >INTEGER</td>\n",
       "      <td id=\"T_79124_row2_col2\" class=\"data row2 col2\" >N</td>\n",
       "      <td id=\"T_79124_row2_col3\" class=\"data row2 col3\" >No</td>\n",
       "      <td id=\"T_79124_row2_col4\" class=\"data row2 col4\" >NOT NULL</td>\n",
       "      <td id=\"T_79124_row2_col5\" class=\"data row2 col5\" >3</td>\n",
       "      <td id=\"T_79124_row2_col6\" class=\"data row2 col6\" >Data derived from FACTTABLE.SITE_SKEY</td>\n",
       "    </tr>\n",
       "    <tr>\n",
       "      <td id=\"T_79124_row3_col0\" class=\"data row3 col0\" >Video_SKEY</td>\n",
       "      <td id=\"T_79124_row3_col1\" class=\"data row3 col1\" >INTEGER</td>\n",
       "      <td id=\"T_79124_row3_col2\" class=\"data row3 col2\" >N</td>\n",
       "      <td id=\"T_79124_row3_col3\" class=\"data row3 col3\" >No</td>\n",
       "      <td id=\"T_79124_row3_col4\" class=\"data row3 col4\" >NOT NULL</td>\n",
       "      <td id=\"T_79124_row3_col5\" class=\"data row3 col5\" >4</td>\n",
       "      <td id=\"T_79124_row3_col6\" class=\"data row3 col6\" >Data derived from FACTTABLE.VIDEO_SKEY</td>\n",
       "    </tr>\n",
       "    <tr>\n",
       "      <td id=\"T_79124_row4_col0\" class=\"data row4 col0\" >Events</td>\n",
       "      <td id=\"T_79124_row4_col1\" class=\"data row4 col1\" >VARCHAR2(150 BYTE)</td>\n",
       "      <td id=\"T_79124_row4_col2\" class=\"data row4 col2\" >N</td>\n",
       "      <td id=\"T_79124_row4_col3\" class=\"data row4 col3\" >No</td>\n",
       "      <td id=\"T_79124_row4_col4\" class=\"data row4 col4\" >NOT NULL</td>\n",
       "      <td id=\"T_79124_row4_col5\" class=\"data row4 col5\" >5</td>\n",
       "      <td id=\"T_79124_row4_col6\" class=\"data row4 col6\" >Data derived from FACTTABLE.EVENTS</td>\n",
       "    </tr>\n",
       "  </tbody>\n",
       "</table>\n"
      ],
      "text/plain": [
       "<pandas.io.formats.style.Styler at 0x126ec8a00>"
      ]
     },
     "execution_count": 16,
     "metadata": {},
     "output_type": "execute_result"
    }
   ],
   "source": [
    "import pandas as pd\n",
    "facttable = pd.DataFrame([['DATETIME_SKEY', 'TIMESTAMP', 'N', 'No', 'NOT NULL', 1, 'Data derived from FACTTABLE.DATETIME_SKEY'],\n",
    "                          ['Platform_SKEY', 'INTEGER', 'N', 'No', 'NOT NULL', 2, 'Data derived from FACTTABLE.PLATFORM_SKEY'],\n",
    "                          ['Site_SKEY', 'INTEGER', 'N', 'No', 'NOT NULL', 3, 'Data derived from FACTTABLE.SITE_SKEY'],\n",
    "                          ['Video_SKEY', 'INTEGER', 'N', 'No', 'NOT NULL', 4, 'Data derived from FACTTABLE.VIDEO_SKEY'],\n",
    "                          ['Events', 'VARCHAR2(150 BYTE)', 'N', 'No', 'NOT NULL', 5, 'Data derived from FACTTABLE.EVENTS']],\n",
    "                  columns=['COLUMN_NAME', 'DATA_TYPE', 'PK', 'NULLABLE', 'DATA_DEFAULT', 'COLUMN_ID', 'COMMENTS'])\n",
    "                  \n",
    "facttable.style.hide_index().set_caption('FACTTABLE')"
   ]
  },
  {
   "cell_type": "markdown",
   "metadata": {},
   "source": [
    "# **Pre-process the Raw Data**"
   ]
  },
  {
   "cell_type": "markdown",
   "metadata": {},
   "source": [
    "## 1. Data auditing"
   ]
  },
  {
   "cell_type": "code",
   "execution_count": 117,
   "metadata": {},
   "outputs": [
    {
     "name": "stdout",
     "output_type": "stream",
     "text": [
      "DateTime       24\n",
      "VideoTitle    157\n",
      "events         95\n",
      "dtype: int64\n"
     ]
    }
   ],
   "source": [
    "import pandas as pd\n",
    "\n",
    "df = pd.read_csv('source.csv', usecols=[0,1,2])\n",
    "df.columns = ['DateTime', 'VideoTitle', 'events']\n",
    "\n",
    "print(pd.Series({c: df[c].map(lambda x: len(str(x))).max() for c in df}))"
   ]
  },
  {
   "cell_type": "markdown",
   "metadata": {},
   "source": [
    "## 2. Identify Objects for ETL Process"
   ]
  },
  {
   "cell_type": "code",
   "execution_count": 121,
   "metadata": {},
   "outputs": [
    {
     "data": {
      "text/plain": [
       "array(['App Web', 'news', 'App iPhone', 'App Android', 'App iPad'],\n",
       "      dtype=object)"
      ]
     },
     "execution_count": 121,
     "metadata": {},
     "output_type": "execute_result"
    }
   ],
   "source": [
    "# Identify the type of PLATFORM and SITE\n",
    "import pandas as pd\n",
    "\n",
    "df = pd.read_csv('source.csv', usecols=[0,1,2])\n",
    "df.columns = ['DateTime', 'VideoTitle', 'events']\n",
    "df[['0','1','2','3','4']] = df['VideoTitle'].str.split(\"|\",expand=True,)\n",
    "\n",
    "df['0'].unique()"
   ]
  },
  {
   "cell_type": "markdown",
   "metadata": {},
   "source": [
    "## 3. The sql script to create the table\n",
    "\n",
    "check <font color='#33AFFF'>snowflake.sql</font>"
   ]
  },
  {
   "cell_type": "markdown",
   "metadata": {},
   "source": [
    "# **NOTE**"
   ]
  },
  {
   "cell_type": "markdown",
   "metadata": {},
   "source": [
    "1. SKEY stands for surrogate key.  \n",
    "<br>\n",
    "2. The current design is <font color='#33AFFF'>Dimension Type One</font>.  \n",
    "<br>\n",
    "3. If the source dimension data contains not only the PK but also some attributes, and we want to track the changes of attributes, we should use <font color='#33AFFF'>Dimension Type Two</font>. "
   ]
  },
  {
   "cell_type": "markdown",
   "metadata": {},
   "source": [
    "**One sample of Dimension Type Two**"
   ]
  },
  {
   "cell_type": "code",
   "execution_count": 22,
   "metadata": {},
   "outputs": [
    {
     "data": {
      "text/html": [
       "<style type=\"text/css\">\n",
       "</style>\n",
       "<table id=\"T_b328c_\">\n",
       "  <caption>Data from 01/03/2022</caption>\n",
       "  <thead>\n",
       "    <tr>\n",
       "      <th class=\"col_heading level0 col0\" >Product_ID</th>\n",
       "      <th class=\"col_heading level0 col1\" >Product</th>\n",
       "      <th class=\"col_heading level0 col2\" >Price</th>\n",
       "      <th class=\"col_heading level0 col3\" >Location</th>\n",
       "    </tr>\n",
       "  </thead>\n",
       "  <tbody>\n",
       "    <tr>\n",
       "      <td id=\"T_b328c_row0_col0\" class=\"data row0 col0\" >P01</td>\n",
       "      <td id=\"T_b328c_row0_col1\" class=\"data row0 col1\" >iPhone 13</td>\n",
       "      <td id=\"T_b328c_row0_col2\" class=\"data row0 col2\" >1429</td>\n",
       "      <td id=\"T_b328c_row0_col3\" class=\"data row0 col3\" >Noel Leeming</td>\n",
       "    </tr>\n",
       "    <tr>\n",
       "      <td id=\"T_b328c_row1_col0\" class=\"data row1 col0\" >P03</td>\n",
       "      <td id=\"T_b328c_row1_col1\" class=\"data row1 col1\" >iPhone 12</td>\n",
       "      <td id=\"T_b328c_row1_col2\" class=\"data row1 col2\" >1049</td>\n",
       "      <td id=\"T_b328c_row1_col3\" class=\"data row1 col3\" >Noel Leeming</td>\n",
       "    </tr>\n",
       "  </tbody>\n",
       "</table>\n"
      ],
      "text/plain": [
       "<pandas.io.formats.style.Styler at 0x128f75a60>"
      ]
     },
     "execution_count": 22,
     "metadata": {},
     "output_type": "execute_result"
    }
   ],
   "source": [
    "import pandas as pd\n",
    "raw_table = pd.DataFrame([['P01', 'iPhone 13', '1429', 'Noel Leeming'],\n",
    "                          ['P03', 'iPhone 12', '1049', 'Noel Leeming']],\n",
    "                  columns=['Product_ID', 'Product', 'Price', 'Location'])\n",
    "\n",
    "raw_table.style.hide_index().set_caption('Data from 01/03/2022')"
   ]
  },
  {
   "cell_type": "markdown",
   "metadata": {},
   "source": [
    "**Data in dimension table**"
   ]
  },
  {
   "cell_type": "code",
   "execution_count": 37,
   "metadata": {},
   "outputs": [
    {
     "data": {
      "text/html": [
       "<style type=\"text/css\">\n",
       "#T_192e1_ 111.col0 {\n",
       "  border: 2px solid red;\n",
       "  color: green;\n",
       "  background-color: yellow;\n",
       "}\n",
       "</style>\n",
       "<table id=\"T_192e1_\">\n",
       "  <thead>\n",
       "    <tr>\n",
       "      <th class=\"blank level0\" >&nbsp;</th>\n",
       "      <th class=\"col_heading level0 col0\" >Product_SKEY</th>\n",
       "      <th class=\"col_heading level0 col1\" >Product_ID</th>\n",
       "      <th class=\"col_heading level0 col2\" >Product</th>\n",
       "      <th class=\"col_heading level0 col3\" >Price</th>\n",
       "      <th class=\"col_heading level0 col4\" >Location</th>\n",
       "      <th class=\"col_heading level0 col5\" >Current_Flag</th>\n",
       "      <th class=\"col_heading level0 col6\" >Start_Date</th>\n",
       "      <th class=\"col_heading level0 col7\" >End_Date</th>\n",
       "    </tr>\n",
       "  </thead>\n",
       "  <tbody>\n",
       "    <tr>\n",
       "      <th id=\"T_192e1_level0_row0\" class=\"row_heading level0 row0\" >0</th>\n",
       "      <td id=\"T_192e1_row0_col0\" class=\"data row0 col0\" >111</td>\n",
       "      <td id=\"T_192e1_row0_col1\" class=\"data row0 col1\" >P01</td>\n",
       "      <td id=\"T_192e1_row0_col2\" class=\"data row0 col2\" >iPhone 13</td>\n",
       "      <td id=\"T_192e1_row0_col3\" class=\"data row0 col3\" >1429</td>\n",
       "      <td id=\"T_192e1_row0_col4\" class=\"data row0 col4\" >Noel Leeming</td>\n",
       "      <td id=\"T_192e1_row0_col5\" class=\"data row0 col5\" >Y</td>\n",
       "      <td id=\"T_192e1_row0_col6\" class=\"data row0 col6\" >31/12/2021</td>\n",
       "      <td id=\"T_192e1_row0_col7\" class=\"data row0 col7\" >31/12/9999</td>\n",
       "    </tr>\n",
       "    <tr>\n",
       "      <th id=\"T_192e1_level0_row1\" class=\"row_heading level0 row1\" >1</th>\n",
       "      <td id=\"T_192e1_row1_col0\" class=\"data row1 col0\" >112</td>\n",
       "      <td id=\"T_192e1_row1_col1\" class=\"data row1 col1\" >P02</td>\n",
       "      <td id=\"T_192e1_row1_col2\" class=\"data row1 col2\" >iPhone 13 mini</td>\n",
       "      <td id=\"T_192e1_row1_col3\" class=\"data row1 col3\" >1249</td>\n",
       "      <td id=\"T_192e1_row1_col4\" class=\"data row1 col4\" >Noel Leeming</td>\n",
       "      <td id=\"T_192e1_row1_col5\" class=\"data row1 col5\" >Y</td>\n",
       "      <td id=\"T_192e1_row1_col6\" class=\"data row1 col6\" >20/01/2022</td>\n",
       "      <td id=\"T_192e1_row1_col7\" class=\"data row1 col7\" >31/12/9999</td>\n",
       "    </tr>\n",
       "  </tbody>\n",
       "</table>\n"
      ],
      "text/plain": [
       "<pandas.io.formats.style.Styler at 0x12cd630a0>"
      ]
     },
     "execution_count": 37,
     "metadata": {},
     "output_type": "execute_result"
    }
   ],
   "source": [
    "import pandas as pd\n",
    "import numpy as np\n",
    "\n",
    "raw_table = pd.DataFrame([['111', 'P01', 'iPhone 13', '1429', 'Noel Leeming', 'Y', '31/12/2021', '31/12/9999'],\n",
    "                          ['112', 'P02', 'iPhone 13 mini', '1249', 'Noel Leeming', 'Y', '20/01/2022', '31/12/9999']],\n",
    "                  columns=['Product_SKEY', 'Product_ID', 'Product', 'Price', 'Location', 'Current_Flag', 'Start_Date', 'End_Date'])\n",
    "\n",
    "# raw_table.style.hide_index().set_caption('Data in dimension table')"
   ]
  }
 ],
 "metadata": {
  "interpreter": {
   "hash": "31f2aee4e71d21fbe5cf8b01ff0e069b9275f58929596ceb00d14d90e3e16cd6"
  },
  "kernelspec": {
   "display_name": "Python 3.8.2 64-bit",
   "language": "python",
   "name": "python3"
  },
  "language_info": {
   "codemirror_mode": {
    "name": "ipython",
    "version": 3
   },
   "file_extension": ".py",
   "mimetype": "text/x-python",
   "name": "python",
   "nbconvert_exporter": "python",
   "pygments_lexer": "ipython3",
   "version": "3.8.2"
  },
  "orig_nbformat": 4
 },
 "nbformat": 4,
 "nbformat_minor": 2
}
