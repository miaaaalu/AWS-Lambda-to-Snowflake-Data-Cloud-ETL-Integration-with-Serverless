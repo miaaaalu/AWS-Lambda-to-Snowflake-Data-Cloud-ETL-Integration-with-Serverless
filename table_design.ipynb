{
 "cells": [
  {
   "cell_type": "markdown",
   "metadata": {},
   "source": [
    "# **Table Design**\n",
    "## RAW TABLE\n"
   ]
  },
  {
   "cell_type": "code",
   "execution_count": 54,
   "metadata": {},
   "outputs": [
    {
     "data": {
      "text/html": [
       "<style type=\"text/css\">\n",
       "</style>\n",
       "<table id=\"T_7be09_\">\n",
       "  <thead>\n",
       "    <tr>\n",
       "      <th class=\"col_heading level0 col0\" >COLUMN_NAME</th>\n",
       "      <th class=\"col_heading level0 col1\" >DATA_TYPE</th>\n",
       "      <th class=\"col_heading level0 col2\" >PK</th>\n",
       "      <th class=\"col_heading level0 col3\" >NULLABLE</th>\n",
       "      <th class=\"col_heading level0 col4\" >DATA_DEFAULT</th>\n",
       "      <th class=\"col_heading level0 col5\" >COLUMN_ID</th>\n",
       "      <th class=\"col_heading level0 col6\" >COMMENTS</th>\n",
       "    </tr>\n",
       "  </thead>\n",
       "  <tbody>\n",
       "    <tr>\n",
       "      <td id=\"T_7be09_row0_col0\" class=\"data row0 col0\" >DATETIME</td>\n",
       "      <td id=\"T_7be09_row0_col1\" class=\"data row0 col1\" >VARCHAR2(30 BYTE)</td>\n",
       "      <td id=\"T_7be09_row0_col2\" class=\"data row0 col2\" >N</td>\n",
       "      <td id=\"T_7be09_row0_col3\" class=\"data row0 col3\" >Yes</td>\n",
       "      <td id=\"T_7be09_row0_col4\" class=\"data row0 col4\" >null</td>\n",
       "      <td id=\"T_7be09_row0_col5\" class=\"data row0 col5\" >1</td>\n",
       "      <td id=\"T_7be09_row0_col6\" class=\"data row0 col6\" >Data from raw file</td>\n",
       "    </tr>\n",
       "    <tr>\n",
       "      <td id=\"T_7be09_row1_col0\" class=\"data row1 col0\" >VIDEOTITLE</td>\n",
       "      <td id=\"T_7be09_row1_col1\" class=\"data row1 col1\" >VARCHAR2(200 BYTE)</td>\n",
       "      <td id=\"T_7be09_row1_col2\" class=\"data row1 col2\" >N</td>\n",
       "      <td id=\"T_7be09_row1_col3\" class=\"data row1 col3\" >Yes</td>\n",
       "      <td id=\"T_7be09_row1_col4\" class=\"data row1 col4\" >null</td>\n",
       "      <td id=\"T_7be09_row1_col5\" class=\"data row1 col5\" >2</td>\n",
       "      <td id=\"T_7be09_row1_col6\" class=\"data row1 col6\" >Data from raw file</td>\n",
       "    </tr>\n",
       "    <tr>\n",
       "      <td id=\"T_7be09_row2_col0\" class=\"data row2 col0\" >EVENTS</td>\n",
       "      <td id=\"T_7be09_row2_col1\" class=\"data row2 col1\" >VARCHAR2(150 BYTE)</td>\n",
       "      <td id=\"T_7be09_row2_col2\" class=\"data row2 col2\" >N</td>\n",
       "      <td id=\"T_7be09_row2_col3\" class=\"data row2 col3\" >Yes</td>\n",
       "      <td id=\"T_7be09_row2_col4\" class=\"data row2 col4\" >null</td>\n",
       "      <td id=\"T_7be09_row2_col5\" class=\"data row2 col5\" >3</td>\n",
       "      <td id=\"T_7be09_row2_col6\" class=\"data row2 col6\" >Data from raw file</td>\n",
       "    </tr>\n",
       "  </tbody>\n",
       "</table>\n"
      ],
      "text/plain": [
       "<pandas.io.formats.style.Styler at 0x12cceb850>"
      ]
     },
     "execution_count": 54,
     "metadata": {},
     "output_type": "execute_result"
    }
   ],
   "source": [
    "import pandas as pd\n",
    "raw_table = pd.DataFrame([['DATETIME', 'VARCHAR2(30 BYTE)', 'N', 'Yes', 'null', 1, 'Data from raw file'],\n",
    "                          ['VIDEOTITLE', 'VARCHAR2(200 BYTE)', 'N', 'Yes', 'null', 2, 'Data from raw file'],\n",
    "                          ['EVENTS', 'VARCHAR2(150 BYTE)', 'N', 'Yes', 'null', 3, 'Data from raw file']],\n",
    "                  columns=['COLUMN_NAME', 'DATA_TYPE', 'PK', 'NULLABLE', 'DATA_DEFAULT', 'COLUMN_ID', 'COMMENTS'])\n",
    "raw_table.style.hide_index()"
   ]
  },
  {
   "cell_type": "markdown",
   "metadata": {},
   "source": [
    "## Dimension Table DIMDATE "
   ]
  },
  {
   "cell_type": "code",
   "execution_count": 53,
   "metadata": {},
   "outputs": [
    {
     "data": {
      "text/html": [
       "<style type=\"text/css\">\n",
       "</style>\n",
       "<table id=\"T_2cb2f_\">\n",
       "  <thead>\n",
       "    <tr>\n",
       "      <th class=\"col_heading level0 col0\" >COLUMN_NAME</th>\n",
       "      <th class=\"col_heading level0 col1\" >DATA_TYPE</th>\n",
       "      <th class=\"col_heading level0 col2\" >PK</th>\n",
       "      <th class=\"col_heading level0 col3\" >NULLABLE</th>\n",
       "      <th class=\"col_heading level0 col4\" >DATA_DEFAULT</th>\n",
       "      <th class=\"col_heading level0 col5\" >COLUMN_ID</th>\n",
       "      <th class=\"col_heading level0 col6\" >COMMENTS</th>\n",
       "    </tr>\n",
       "  </thead>\n",
       "  <tbody>\n",
       "    <tr>\n",
       "      <td id=\"T_2cb2f_row0_col0\" class=\"data row0 col0\" >DATETIME_SKEY</td>\n",
       "      <td id=\"T_2cb2f_row0_col1\" class=\"data row0 col1\" >TIMESTAMP</td>\n",
       "      <td id=\"T_2cb2f_row0_col2\" class=\"data row0 col2\" >Y</td>\n",
       "      <td id=\"T_2cb2f_row0_col3\" class=\"data row0 col3\" >No</td>\n",
       "      <td id=\"T_2cb2f_row0_col4\" class=\"data row0 col4\" >NOT NULL</td>\n",
       "      <td id=\"T_2cb2f_row0_col5\" class=\"data row0 col5\" >1</td>\n",
       "      <td id=\"T_2cb2f_row0_col6\" class=\"data row0 col6\" >Data derived from DIMDATE.DATETIME_SKEY</td>\n",
       "    </tr>\n",
       "  </tbody>\n",
       "</table>\n"
      ],
      "text/plain": [
       "<pandas.io.formats.style.Styler at 0x12cde7fd0>"
      ]
     },
     "execution_count": 53,
     "metadata": {},
     "output_type": "execute_result"
    }
   ],
   "source": [
    "import pandas as pd\n",
    "\n",
    "dimdate = pd.DataFrame([['DATETIME_SKEY', 'TIMESTAMP', 'Y', 'No', 'NOT NULL', 1, 'Data derived from DIMDATE.DATETIME_SKEY']],\n",
    "                  columns=['COLUMN_NAME', 'DATA_TYPE', 'PK', 'NULLABLE', 'DATA_DEFAULT', 'COLUMN_ID', 'COMMENTS'])\n",
    "\n",
    "dimdate.style.hide_index()"
   ]
  },
  {
   "cell_type": "markdown",
   "metadata": {},
   "source": [
    "## Dimension Table DIMPLATFORM"
   ]
  },
  {
   "cell_type": "code",
   "execution_count": 52,
   "metadata": {},
   "outputs": [
    {
     "data": {
      "text/html": [
       "<style type=\"text/css\">\n",
       "</style>\n",
       "<table id=\"T_47b2d_\">\n",
       "  <thead>\n",
       "    <tr>\n",
       "      <th class=\"col_heading level0 col0\" >COLUMN_NAME</th>\n",
       "      <th class=\"col_heading level0 col1\" >DATA_TYPE</th>\n",
       "      <th class=\"col_heading level0 col2\" >PK</th>\n",
       "      <th class=\"col_heading level0 col3\" >NULLABLE</th>\n",
       "      <th class=\"col_heading level0 col4\" >DATA_DEFAULT</th>\n",
       "      <th class=\"col_heading level0 col5\" >COLUMN_ID</th>\n",
       "      <th class=\"col_heading level0 col6\" >COMMENTS</th>\n",
       "    </tr>\n",
       "  </thead>\n",
       "  <tbody>\n",
       "    <tr>\n",
       "      <td id=\"T_47b2d_row0_col0\" class=\"data row0 col0\" >PLATFORM_SKEY</td>\n",
       "      <td id=\"T_47b2d_row0_col1\" class=\"data row0 col1\" >INTEGER</td>\n",
       "      <td id=\"T_47b2d_row0_col2\" class=\"data row0 col2\" >Y</td>\n",
       "      <td id=\"T_47b2d_row0_col3\" class=\"data row0 col3\" >No</td>\n",
       "      <td id=\"T_47b2d_row0_col4\" class=\"data row0 col4\" >NOT NULL</td>\n",
       "      <td id=\"T_47b2d_row0_col5\" class=\"data row0 col5\" >1</td>\n",
       "      <td id=\"T_47b2d_row0_col6\" class=\"data row0 col6\" >Data derived DIMPLATFORM.PLATFORM_SKEY</td>\n",
       "    </tr>\n",
       "    <tr>\n",
       "      <td id=\"T_47b2d_row1_col0\" class=\"data row1 col0\" >PLATFORM_TYPE</td>\n",
       "      <td id=\"T_47b2d_row1_col1\" class=\"data row1 col1\" >VARCHAR2(200 BYTE)</td>\n",
       "      <td id=\"T_47b2d_row1_col2\" class=\"data row1 col2\" >N</td>\n",
       "      <td id=\"T_47b2d_row1_col3\" class=\"data row1 col3\" >No</td>\n",
       "      <td id=\"T_47b2d_row1_col4\" class=\"data row1 col4\" >NOT NULL</td>\n",
       "      <td id=\"T_47b2d_row1_col5\" class=\"data row1 col5\" >2</td>\n",
       "      <td id=\"T_47b2d_row1_col6\" class=\"data row1 col6\" >Data derived DIMPLATFORM.PLATFORM</td>\n",
       "    </tr>\n",
       "  </tbody>\n",
       "</table>\n"
      ],
      "text/plain": [
       "<pandas.io.formats.style.Styler at 0x12ccbba90>"
      ]
     },
     "execution_count": 52,
     "metadata": {},
     "output_type": "execute_result"
    }
   ],
   "source": [
    "import pandas as pd\n",
    "\n",
    "dimplatform = pd.DataFrame([['PLATFORM_SKEY', 'INTEGER', 'Y', 'No', 'NOT NULL', 1, 'Data derived DIMPLATFORM.PLATFORM_SKEY'],\n",
    "                          ['PLATFORM_TYPE', 'VARCHAR2(200 BYTE)', 'N', 'No', 'NOT NULL', 2, 'Data derived DIMPLATFORM.PLATFORM']],\n",
    "                  columns=['COLUMN_NAME', 'DATA_TYPE', 'PK', 'NULLABLE', 'DATA_DEFAULT', 'COLUMN_ID', 'COMMENTS'])\n",
    "                  \n",
    "dimplatform.style.hide_index()"
   ]
  },
  {
   "cell_type": "markdown",
   "metadata": {},
   "source": [
    "## Dimension Table DIMSITE\n"
   ]
  },
  {
   "cell_type": "code",
   "execution_count": 55,
   "metadata": {},
   "outputs": [
    {
     "data": {
      "text/html": [
       "<style type=\"text/css\">\n",
       "</style>\n",
       "<table id=\"T_cc64d_\">\n",
       "  <thead>\n",
       "    <tr>\n",
       "      <th class=\"col_heading level0 col0\" >COLUMN_NAME</th>\n",
       "      <th class=\"col_heading level0 col1\" >DATA_TYPE</th>\n",
       "      <th class=\"col_heading level0 col2\" >PK</th>\n",
       "      <th class=\"col_heading level0 col3\" >NULLABLE</th>\n",
       "      <th class=\"col_heading level0 col4\" >DATA_DEFAULT</th>\n",
       "      <th class=\"col_heading level0 col5\" >COLUMN_ID</th>\n",
       "      <th class=\"col_heading level0 col6\" >COMMENTS</th>\n",
       "    </tr>\n",
       "  </thead>\n",
       "  <tbody>\n",
       "    <tr>\n",
       "      <td id=\"T_cc64d_row0_col0\" class=\"data row0 col0\" >SITE_SKEY</td>\n",
       "      <td id=\"T_cc64d_row0_col1\" class=\"data row0 col1\" >INTEGER</td>\n",
       "      <td id=\"T_cc64d_row0_col2\" class=\"data row0 col2\" >Y</td>\n",
       "      <td id=\"T_cc64d_row0_col3\" class=\"data row0 col3\" >No</td>\n",
       "      <td id=\"T_cc64d_row0_col4\" class=\"data row0 col4\" >NOT NULL</td>\n",
       "      <td id=\"T_cc64d_row0_col5\" class=\"data row0 col5\" >1</td>\n",
       "      <td id=\"T_cc64d_row0_col6\" class=\"data row0 col6\" >Data derived DIMSITE.SITE_SKEY</td>\n",
       "    </tr>\n",
       "    <tr>\n",
       "      <td id=\"T_cc64d_row1_col0\" class=\"data row1 col0\" >SITE</td>\n",
       "      <td id=\"T_cc64d_row1_col1\" class=\"data row1 col1\" >VARCHAR(200)</td>\n",
       "      <td id=\"T_cc64d_row1_col2\" class=\"data row1 col2\" >N</td>\n",
       "      <td id=\"T_cc64d_row1_col3\" class=\"data row1 col3\" >No</td>\n",
       "      <td id=\"T_cc64d_row1_col4\" class=\"data row1 col4\" >NOT NULL</td>\n",
       "      <td id=\"T_cc64d_row1_col5\" class=\"data row1 col5\" >2</td>\n",
       "      <td id=\"T_cc64d_row1_col6\" class=\"data row1 col6\" >Data derived DIMSITE.SITE</td>\n",
       "    </tr>\n",
       "  </tbody>\n",
       "</table>\n"
      ],
      "text/plain": [
       "<pandas.io.formats.style.Styler at 0x12cd753d0>"
      ]
     },
     "execution_count": 55,
     "metadata": {},
     "output_type": "execute_result"
    }
   ],
   "source": [
    "import pandas as pd\n",
    "\n",
    "dimsite = pd.DataFrame([['SITE_SKEY', 'INTEGER', 'Y', 'No', 'NOT NULL', 1, 'Data derived DIMSITE.SITE_SKEY'],\n",
    "                          ['SITE', 'VARCHAR(200)', 'N', 'No', 'NOT NULL', 2, 'Data derived DIMSITE.SITE']],\n",
    "                  columns=['COLUMN_NAME', 'DATA_TYPE', 'PK', 'NULLABLE', 'DATA_DEFAULT', 'COLUMN_ID', 'COMMENTS'])\n",
    "                  \n",
    "dimsite.style.hide_index()"
   ]
  },
  {
   "cell_type": "markdown",
   "metadata": {},
   "source": [
    "## Dimension Table DIMVIDEO\n"
   ]
  },
  {
   "cell_type": "code",
   "execution_count": 56,
   "metadata": {},
   "outputs": [
    {
     "data": {
      "text/html": [
       "<style type=\"text/css\">\n",
       "</style>\n",
       "<table id=\"T_aafa2_\">\n",
       "  <thead>\n",
       "    <tr>\n",
       "      <th class=\"col_heading level0 col0\" >COLUMN_NAME</th>\n",
       "      <th class=\"col_heading level0 col1\" >DATA_TYPE</th>\n",
       "      <th class=\"col_heading level0 col2\" >PK</th>\n",
       "      <th class=\"col_heading level0 col3\" >NULLABLE</th>\n",
       "      <th class=\"col_heading level0 col4\" >DATA_DEFAULT</th>\n",
       "      <th class=\"col_heading level0 col5\" >COLUMN_ID</th>\n",
       "      <th class=\"col_heading level0 col6\" >COMMENTS</th>\n",
       "    </tr>\n",
       "  </thead>\n",
       "  <tbody>\n",
       "    <tr>\n",
       "      <td id=\"T_aafa2_row0_col0\" class=\"data row0 col0\" >VIDEO_SKEY</td>\n",
       "      <td id=\"T_aafa2_row0_col1\" class=\"data row0 col1\" >INTEGER</td>\n",
       "      <td id=\"T_aafa2_row0_col2\" class=\"data row0 col2\" >Y</td>\n",
       "      <td id=\"T_aafa2_row0_col3\" class=\"data row0 col3\" >No</td>\n",
       "      <td id=\"T_aafa2_row0_col4\" class=\"data row0 col4\" >NOT NULL</td>\n",
       "      <td id=\"T_aafa2_row0_col5\" class=\"data row0 col5\" >1</td>\n",
       "      <td id=\"T_aafa2_row0_col6\" class=\"data row0 col6\" >Data derived from DIMVIDEO.VIDEO_SKEY</td>\n",
       "    </tr>\n",
       "    <tr>\n",
       "      <td id=\"T_aafa2_row1_col0\" class=\"data row1 col0\" >VIDEO_TITLE</td>\n",
       "      <td id=\"T_aafa2_row1_col1\" class=\"data row1 col1\" >TEXT</td>\n",
       "      <td id=\"T_aafa2_row1_col2\" class=\"data row1 col2\" >N</td>\n",
       "      <td id=\"T_aafa2_row1_col3\" class=\"data row1 col3\" >No</td>\n",
       "      <td id=\"T_aafa2_row1_col4\" class=\"data row1 col4\" >NOT NULL</td>\n",
       "      <td id=\"T_aafa2_row1_col5\" class=\"data row1 col5\" >2</td>\n",
       "      <td id=\"T_aafa2_row1_col6\" class=\"data row1 col6\" >Data derived from DIMVIDEO.VIDEO_TITLE</td>\n",
       "    </tr>\n",
       "  </tbody>\n",
       "</table>\n"
      ],
      "text/plain": [
       "<pandas.io.formats.style.Styler at 0x12cbf5340>"
      ]
     },
     "execution_count": 56,
     "metadata": {},
     "output_type": "execute_result"
    }
   ],
   "source": [
    "import pandas as pd\n",
    "\n",
    "dimvideo = pd.DataFrame([['VIDEO_SKEY', 'INTEGER', 'Y', 'No', 'NOT NULL', 1, 'Data derived from DIMVIDEO.VIDEO_SKEY'],\n",
    "                          ['VIDEO_TITLE', 'TEXT', 'N', 'No', 'NOT NULL', 2, 'Data derived from DIMVIDEO.VIDEO_TITLE']],\n",
    "                  columns=['COLUMN_NAME', 'DATA_TYPE', 'PK', 'NULLABLE', 'DATA_DEFAULT', 'COLUMN_ID', 'COMMENTS'])\n",
    "                  \n",
    "dimvideo.style.hide_index()"
   ]
  },
  {
   "cell_type": "markdown",
   "metadata": {},
   "source": [
    "## Fact Table FACTTABLE\n"
   ]
  },
  {
   "cell_type": "code",
   "execution_count": 57,
   "metadata": {},
   "outputs": [
    {
     "data": {
      "text/html": [
       "<style type=\"text/css\">\n",
       "</style>\n",
       "<table id=\"T_6f7a4_\">\n",
       "  <thead>\n",
       "    <tr>\n",
       "      <th class=\"col_heading level0 col0\" >COLUMN_NAME</th>\n",
       "      <th class=\"col_heading level0 col1\" >DATA_TYPE</th>\n",
       "      <th class=\"col_heading level0 col2\" >PK</th>\n",
       "      <th class=\"col_heading level0 col3\" >NULLABLE</th>\n",
       "      <th class=\"col_heading level0 col4\" >DATA_DEFAULT</th>\n",
       "      <th class=\"col_heading level0 col5\" >COLUMN_ID</th>\n",
       "      <th class=\"col_heading level0 col6\" >COMMENTS</th>\n",
       "    </tr>\n",
       "  </thead>\n",
       "  <tbody>\n",
       "    <tr>\n",
       "      <td id=\"T_6f7a4_row0_col0\" class=\"data row0 col0\" >DATETIME_SKEY</td>\n",
       "      <td id=\"T_6f7a4_row0_col1\" class=\"data row0 col1\" >TIMESTAMP</td>\n",
       "      <td id=\"T_6f7a4_row0_col2\" class=\"data row0 col2\" >N</td>\n",
       "      <td id=\"T_6f7a4_row0_col3\" class=\"data row0 col3\" >No</td>\n",
       "      <td id=\"T_6f7a4_row0_col4\" class=\"data row0 col4\" >NOT NULL</td>\n",
       "      <td id=\"T_6f7a4_row0_col5\" class=\"data row0 col5\" >1</td>\n",
       "      <td id=\"T_6f7a4_row0_col6\" class=\"data row0 col6\" >Data derived from FACTTABLE.DATETIME_SKEY</td>\n",
       "    </tr>\n",
       "    <tr>\n",
       "      <td id=\"T_6f7a4_row1_col0\" class=\"data row1 col0\" >Platform_SKEY</td>\n",
       "      <td id=\"T_6f7a4_row1_col1\" class=\"data row1 col1\" >INTEGER</td>\n",
       "      <td id=\"T_6f7a4_row1_col2\" class=\"data row1 col2\" >N</td>\n",
       "      <td id=\"T_6f7a4_row1_col3\" class=\"data row1 col3\" >No</td>\n",
       "      <td id=\"T_6f7a4_row1_col4\" class=\"data row1 col4\" >NOT NULL</td>\n",
       "      <td id=\"T_6f7a4_row1_col5\" class=\"data row1 col5\" >2</td>\n",
       "      <td id=\"T_6f7a4_row1_col6\" class=\"data row1 col6\" >Data derived from FACTTABLE.PLATFORM_SKEY</td>\n",
       "    </tr>\n",
       "    <tr>\n",
       "      <td id=\"T_6f7a4_row2_col0\" class=\"data row2 col0\" >Site_SKEY</td>\n",
       "      <td id=\"T_6f7a4_row2_col1\" class=\"data row2 col1\" >INTEGER</td>\n",
       "      <td id=\"T_6f7a4_row2_col2\" class=\"data row2 col2\" >N</td>\n",
       "      <td id=\"T_6f7a4_row2_col3\" class=\"data row2 col3\" >No</td>\n",
       "      <td id=\"T_6f7a4_row2_col4\" class=\"data row2 col4\" >NOT NULL</td>\n",
       "      <td id=\"T_6f7a4_row2_col5\" class=\"data row2 col5\" >3</td>\n",
       "      <td id=\"T_6f7a4_row2_col6\" class=\"data row2 col6\" >Data derived from FACTTABLE.SITE_SKEY</td>\n",
       "    </tr>\n",
       "    <tr>\n",
       "      <td id=\"T_6f7a4_row3_col0\" class=\"data row3 col0\" >Video_SKEY</td>\n",
       "      <td id=\"T_6f7a4_row3_col1\" class=\"data row3 col1\" >INTEGER</td>\n",
       "      <td id=\"T_6f7a4_row3_col2\" class=\"data row3 col2\" >N</td>\n",
       "      <td id=\"T_6f7a4_row3_col3\" class=\"data row3 col3\" >No</td>\n",
       "      <td id=\"T_6f7a4_row3_col4\" class=\"data row3 col4\" >NOT NULL</td>\n",
       "      <td id=\"T_6f7a4_row3_col5\" class=\"data row3 col5\" >4</td>\n",
       "      <td id=\"T_6f7a4_row3_col6\" class=\"data row3 col6\" >Data derived from FACTTABLE.VIDEO_SKEY</td>\n",
       "    </tr>\n",
       "    <tr>\n",
       "      <td id=\"T_6f7a4_row4_col0\" class=\"data row4 col0\" >Events</td>\n",
       "      <td id=\"T_6f7a4_row4_col1\" class=\"data row4 col1\" >VARCHAR2(150 BYTE)</td>\n",
       "      <td id=\"T_6f7a4_row4_col2\" class=\"data row4 col2\" >N</td>\n",
       "      <td id=\"T_6f7a4_row4_col3\" class=\"data row4 col3\" >No</td>\n",
       "      <td id=\"T_6f7a4_row4_col4\" class=\"data row4 col4\" >NOT NULL</td>\n",
       "      <td id=\"T_6f7a4_row4_col5\" class=\"data row4 col5\" >5</td>\n",
       "      <td id=\"T_6f7a4_row4_col6\" class=\"data row4 col6\" >Data derived from FACTTABLE.EVENTS</td>\n",
       "    </tr>\n",
       "  </tbody>\n",
       "</table>\n"
      ],
      "text/plain": [
       "<pandas.io.formats.style.Styler at 0x12cc7d790>"
      ]
     },
     "execution_count": 57,
     "metadata": {},
     "output_type": "execute_result"
    }
   ],
   "source": [
    "import pandas as pd\n",
    "facttable = pd.DataFrame([['DATETIME_SKEY', 'TIMESTAMP', 'N', 'No', 'NOT NULL', 1, 'Data derived from FACTTABLE.DATETIME_SKEY'],\n",
    "                          ['Platform_SKEY', 'INTEGER', 'N', 'No', 'NOT NULL', 2, 'Data derived from FACTTABLE.PLATFORM_SKEY'],\n",
    "                          ['Site_SKEY', 'INTEGER', 'N', 'No', 'NOT NULL', 3, 'Data derived from FACTTABLE.SITE_SKEY'],\n",
    "                          ['Video_SKEY', 'INTEGER', 'N', 'No', 'NOT NULL', 4, 'Data derived from FACTTABLE.VIDEO_SKEY'],\n",
    "                          ['Events', 'VARCHAR2(150 BYTE)', 'N', 'No', 'NOT NULL', 5, 'Data derived from FACTTABLE.EVENTS']],\n",
    "                  columns=['COLUMN_NAME', 'DATA_TYPE', 'PK', 'NULLABLE', 'DATA_DEFAULT', 'COLUMN_ID', 'COMMENTS'])\n",
    "                  \n",
    "facttable.style.hide_index()"
   ]
  },
  {
   "cell_type": "markdown",
   "metadata": {},
   "source": [
    "# **Pre-process the Raw Data**"
   ]
  },
  {
   "cell_type": "markdown",
   "metadata": {},
   "source": [
    "## 1. Data auditing"
   ]
  },
  {
   "cell_type": "code",
   "execution_count": 117,
   "metadata": {},
   "outputs": [
    {
     "name": "stdout",
     "output_type": "stream",
     "text": [
      "DateTime       24\n",
      "VideoTitle    157\n",
      "events         95\n",
      "dtype: int64\n"
     ]
    }
   ],
   "source": [
    "import pandas as pd\n",
    "\n",
    "df = pd.read_csv('source.csv', usecols=[0,1,2])\n",
    "df.columns = ['DateTime', 'VideoTitle', 'events']\n",
    "\n",
    "print(pd.Series({c: df[c].map(lambda x: len(str(x))).max() for c in df}))"
   ]
  },
  {
   "cell_type": "markdown",
   "metadata": {},
   "source": [
    "## 2. Identify Objects for ETL Process"
   ]
  },
  {
   "cell_type": "code",
   "execution_count": 121,
   "metadata": {},
   "outputs": [
    {
     "data": {
      "text/plain": [
       "array(['App Web', 'news', 'App iPhone', 'App Android', 'App iPad'],\n",
       "      dtype=object)"
      ]
     },
     "execution_count": 121,
     "metadata": {},
     "output_type": "execute_result"
    }
   ],
   "source": [
    "# Identify the type of PLATFORM and SITE\n",
    "import pandas as pd\n",
    "\n",
    "df = pd.read_csv('source.csv', usecols=[0,1,2])\n",
    "df.columns = ['DateTime', 'VideoTitle', 'events']\n",
    "df[['0','1','2','3','4']] = df['VideoTitle'].str.split(\"|\",expand=True,)\n",
    "\n",
    "df['0'].unique()"
   ]
  },
  {
   "cell_type": "markdown",
   "metadata": {},
   "source": [
    "## 3. The sql script to create the table\n",
    "\n",
    "check <font color='#33AFFF'>snowflake.sql</font>"
   ]
  },
  {
   "cell_type": "markdown",
   "metadata": {},
   "source": [
    "# **NOTE**"
   ]
  },
  {
   "cell_type": "markdown",
   "metadata": {},
   "source": [
    "1. SKEY stands for surrogate key.  \n",
    "<br>\n",
    "2. The current design is <font color='#33AFFF'>Dimension Type One</font>.  \n",
    "<br>\n",
    "3. If the source dimension data contains not only the PK but also some attributes, and we want to track the changes of attributes, we should use <font color='#33AFFF'>Dimension Type Two</font>. "
   ]
  },
  {
   "cell_type": "markdown",
   "metadata": {},
   "source": [
    "**One sample of Dimension Type Two**"
   ]
  },
  {
   "cell_type": "code",
   "execution_count": 58,
   "metadata": {},
   "outputs": [
    {
     "data": {
      "text/html": [
       "<style type=\"text/css\">\n",
       "</style>\n",
       "<table id=\"T_00331_\">\n",
       "  <thead>\n",
       "    <tr>\n",
       "      <th class=\"col_heading level0 col0\" >Product_ID</th>\n",
       "      <th class=\"col_heading level0 col1\" >Product</th>\n",
       "      <th class=\"col_heading level0 col2\" >Price</th>\n",
       "      <th class=\"col_heading level0 col3\" >Location</th>\n",
       "    </tr>\n",
       "  </thead>\n",
       "  <tbody>\n",
       "    <tr>\n",
       "      <td id=\"T_00331_row0_col0\" class=\"data row0 col0\" >P01</td>\n",
       "      <td id=\"T_00331_row0_col1\" class=\"data row0 col1\" >iPhone 13</td>\n",
       "      <td id=\"T_00331_row0_col2\" class=\"data row0 col2\" >1429</td>\n",
       "      <td id=\"T_00331_row0_col3\" class=\"data row0 col3\" >Noel Leeming</td>\n",
       "    </tr>\n",
       "    <tr>\n",
       "      <td id=\"T_00331_row1_col0\" class=\"data row1 col0\" >P03</td>\n",
       "      <td id=\"T_00331_row1_col1\" class=\"data row1 col1\" >iPhone 12</td>\n",
       "      <td id=\"T_00331_row1_col2\" class=\"data row1 col2\" >1049</td>\n",
       "      <td id=\"T_00331_row1_col3\" class=\"data row1 col3\" >Noel Leeming</td>\n",
       "    </tr>\n",
       "  </tbody>\n",
       "</table>\n"
      ],
      "text/plain": [
       "<pandas.io.formats.style.Styler at 0x12cd015e0>"
      ]
     },
     "execution_count": 58,
     "metadata": {},
     "output_type": "execute_result"
    }
   ],
   "source": [
    "import pandas as pd\n",
    "sample_table = pd.DataFrame([['P01', 'iPhone 13', '1429', 'Noel Leeming'],\n",
    "                          ['P03', 'iPhone 12', '1049', 'Noel Leeming']],\n",
    "                  columns=['Product_ID', 'Product', 'Price', 'Location'])\n",
    "\n",
    "sample_table.style.hide_index()"
   ]
  }
 ],
 "metadata": {
  "interpreter": {
   "hash": "31f2aee4e71d21fbe5cf8b01ff0e069b9275f58929596ceb00d14d90e3e16cd6"
  },
  "kernelspec": {
   "display_name": "Python 3.8.2 64-bit",
   "language": "python",
   "name": "python3"
  },
  "language_info": {
   "codemirror_mode": {
    "name": "ipython",
    "version": 3
   },
   "file_extension": ".py",
   "mimetype": "text/x-python",
   "name": "python",
   "nbconvert_exporter": "python",
   "pygments_lexer": "ipython3",
   "version": "3.8.2"
  },
  "orig_nbformat": 4
 },
 "nbformat": 4,
 "nbformat_minor": 2
}
